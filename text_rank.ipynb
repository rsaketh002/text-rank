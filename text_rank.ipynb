{
  "nbformat": 4,
  "nbformat_minor": 0,
  "metadata": {
    "colab": {
      "provenance": [],
      "authorship_tag": "ABX9TyOQ94o/Kfe1pNvxfAh5oyqX",
      "include_colab_link": true
    },
    "kernelspec": {
      "name": "python3",
      "display_name": "Python 3"
    },
    "language_info": {
      "name": "python"
    }
  },
  "cells": [
    {
      "cell_type": "markdown",
      "metadata": {
        "id": "view-in-github",
        "colab_type": "text"
      },
      "source": [
        "<a href=\"https://colab.research.google.com/github/rsaketh002/text-rank/blob/main/text_rank.ipynb\" target=\"_parent\"><img src=\"https://colab.research.google.com/assets/colab-badge.svg\" alt=\"Open In Colab\"/></a>"
      ]
    },
    {
      "cell_type": "code",
      "source": [
        "import nltk\n",
        "import numpy as np\n",
        "from sklearn.feature_extraction.text import TfidfVectorizer\n",
        "from sklearn.metrics.pairwise import cosine_similarity\n",
        "from nltk.tokenize import sent_tokenize\n"
      ],
      "metadata": {
        "id": "iGQ2muvwvq3M"
      },
      "execution_count": 8,
      "outputs": []
    },
    {
      "cell_type": "code",
      "execution_count": 3,
      "metadata": {
        "id": "A511x9WdvDEw"
      },
      "outputs": [],
      "source": [
        "def summarize(doc, factor=0.15):\n",
        "    text = doc\n",
        "    text = sent_tokenize(text)\n",
        "\n",
        "    vectorizer = TfidfVectorizer()\n",
        "    X = vectorizer.fit_transform(text)\n",
        "\n",
        "    S = cosine_similarity(X)\n",
        "    S /= S.sum(axis=1, keepdims=True)\n",
        "\n",
        "    m = len(text)\n",
        "    U = np.full((m, m), 1/m)\n",
        "    S = (1 - factor) * S + factor * U\n",
        "\n",
        "    eigenvals, eigenvecs = np.linalg.eig(S.T)\n",
        "    scores = eigenvecs[:, 0] / eigenvecs[:, 0].sum()\n",
        "\n",
        "    sort_idx = np.argsort(-scores)\n",
        "\n",
        "    summary = {'sentences': []}\n",
        "    for i in sort_idx[:5]:\n",
        "        summary['sentences'].append({'score': scores[i], 'text': text[i]})\n",
        "\n",
        "    return summary\n"
      ]
    },
    {
      "cell_type": "code",
      "source": [
        "nltk.download('punkt')"
      ],
      "metadata": {
        "colab": {
          "base_uri": "https://localhost:8080/"
        },
        "id": "rrCx1qukwQaK",
        "outputId": "e878c173-f31b-4cb1-f1a5-8b9382b11790"
      },
      "execution_count": 9,
      "outputs": [
        {
          "output_type": "stream",
          "name": "stderr",
          "text": [
            "[nltk_data] Downloading package punkt to /root/nltk_data...\n",
            "[nltk_data]   Unzipping tokenizers/punkt.zip.\n"
          ]
        },
        {
          "output_type": "execute_result",
          "data": {
            "text/plain": [
              "True"
            ]
          },
          "metadata": {},
          "execution_count": 9
        }
      ]
    },
    {
      "cell_type": "code",
      "source": [
        "text=\"\"\"MUMBAI: The Shiv Sena (UBT) will release its first list of 15-16 seats for the Lok Sabha polls on Tuesday. Sena (UBT) MP Sanjay Raut said on Monday that the party will publish its first list of candidates on Tuesday. Sena (UBT) chief Uddhav Thackeray had a meeting with NCP (Sharadchandra Pawar) supremo Sharad Pawar at Matoshree, the Thackeray family residence.\n",
        "The Sena (UBT) may announce candidates for Raigad, Ratnagiri, Thane, Parbhani, Buldhana, Yavatmal, Chhatrapati Sambhajinagar, Shirdi, South Mumbai, North West Mumbai, North East Mumbai, Sangli and Maval seats. Reacting to Vanchit Bahujan Aghadi (VBA) chief Prakash Ambedkar’s March 26 deadline to finalise the seat sharing formula with him, Raut said that the seat sharing formula was not stuck anywhere. “The Shiv Sena (UBT) list will be published on Tuesday. Our first list of candidates for 15-16 seats will be released on Tuesday. We want Prakash Ambedkar to be with us. We are trying and will try to get him to be with us. We have given him a proposal of four seats. Now it is upto them to accept it or not. There are 4-5 parties in the MVA, so all have to get their share. We have given a four seat proposal to the VBA. I think this is a good offer and these are the seats from among those that Ambedkar had asked for,” Raut said. “Even if the VBA is not with us, we will win, the MVA will win since we have the people with us. Had VBA been with us, our margins would have been higher. The people are with us, Prakash Ambedkar is a respected leader and his organisation is with us. We have made several requests to him. He should have accepted our proposal and we are still hopeful that he will accept our proposal,” Raut said.\"\"\""
      ],
      "metadata": {
        "id": "cd7OhUS4vkf8"
      },
      "execution_count": 4,
      "outputs": []
    },
    {
      "cell_type": "code",
      "source": [
        "text"
      ],
      "metadata": {
        "colab": {
          "base_uri": "https://localhost:8080/",
          "height": 123
        },
        "id": "4njfYzKuvl5m",
        "outputId": "6fcfafbf-ea98-44bb-b881-2f46c6ddd319"
      },
      "execution_count": 5,
      "outputs": [
        {
          "output_type": "execute_result",
          "data": {
            "text/plain": [
              "'MUMBAI: The Shiv Sena (UBT) will release its first list of 15-16 seats for the Lok Sabha polls on Tuesday. Sena (UBT) MP Sanjay Raut said on Monday that the party will publish its first list of candidates on Tuesday. Sena (UBT) chief Uddhav Thackeray had a meeting with NCP (Sharadchandra Pawar) supremo Sharad Pawar at Matoshree, the Thackeray family residence.\\nThe Sena (UBT) may announce candidates for Raigad, Ratnagiri, Thane, Parbhani, Buldhana, Yavatmal, Chhatrapati Sambhajinagar, Shirdi, South Mumbai, North West Mumbai, North East Mumbai, Sangli and Maval seats. Reacting to Vanchit Bahujan Aghadi (VBA) chief Prakash Ambedkar’s March 26 deadline to finalise the seat sharing formula with him, Raut said that the seat sharing formula was not stuck anywhere. “The Shiv Sena (UBT) list will be published on Tuesday. Our first list of candidates for 15-16 seats will be released on Tuesday. We want Prakash Ambedkar to be with us. We are trying and will try to get him to be with us. We have given him a proposal of four seats. Now it is upto them to accept it or not. There are 4-5 parties in the MVA, so all have to get their share. We have given a four seat proposal to the VBA. I think this is a good offer and these are the seats from among those that Ambedkar had asked for,” Raut said. “Even if the VBA is not with us, we will win, the MVA will win since we have the people with us. Had VBA been with us, our margins would have been higher. The people are with us, Prakash Ambedkar is a respected leader and his organisation is with us. We have made several requests to him. He should have accepted our proposal and we are still hopeful that he will accept our proposal,” Raut said.'"
            ],
            "application/vnd.google.colaboratory.intrinsic+json": {
              "type": "string"
            }
          },
          "metadata": {},
          "execution_count": 5
        }
      ]
    },
    {
      "cell_type": "code",
      "source": [
        "summarize(text)"
      ],
      "metadata": {
        "colab": {
          "base_uri": "https://localhost:8080/"
        },
        "id": "YBA2uJhUwJB1",
        "outputId": "28022a24-c799-44dc-e020-84be6b2e45c4"
      },
      "execution_count": 10,
      "outputs": [
        {
          "output_type": "execute_result",
          "data": {
            "text/plain": [
              "{'sentences': [{'score': 0.06687816523193099,\n",
              "   'text': 'We are trying and will try to get him to be with us.'},\n",
              "  {'score': 0.06512116708205086,\n",
              "   'text': '“Even if the VBA is not with us, we will win, the MVA will win since we have the people with us.'},\n",
              "  {'score': 0.06304043290400145,\n",
              "   'text': 'We have given a four seat proposal to the VBA.'},\n",
              "  {'score': 0.06102036393036898,\n",
              "   'text': 'MUMBAI: The Shiv Sena (UBT) will release its first list of 15-16 seats for the Lok Sabha polls on Tuesday.'},\n",
              "  {'score': 0.05986100123234283,\n",
              "   'text': 'We want Prakash Ambedkar to be with us.'}]}"
            ]
          },
          "metadata": {},
          "execution_count": 10
        }
      ]
    },
    {
      "cell_type": "code",
      "source": [],
      "metadata": {
        "id": "J6dljIF8wTHJ"
      },
      "execution_count": null,
      "outputs": []
    }
  ]
}